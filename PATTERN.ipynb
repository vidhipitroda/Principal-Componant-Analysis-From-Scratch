{
 "cells": [
  {
   "cell_type": "code",
   "execution_count": 5,
   "metadata": {},
   "outputs": [],
   "source": [
    "import pandas as pd\n",
    "import csv\n",
    "import pandas as pd\n",
    "import numpy as np\n",
    "from sklearn.preprocessing import StandardScaler\n",
    "from matplotlib import*\n",
    "import matplotlib.pyplot as plt\n",
    "from matplotlib.cm import register_cmap\n",
    "from scipy import stats\n",
    "from sklearn.decomposition import PCA as sklearnPCA\n",
    "import seaborn\n",
    "\n",
    "data_file = r'C:\\Users\\Vidhi\\Desktop\\pattern recog\\proj_\\training.data' \n",
    "with open(data_file, 'r') as f:\n",
    "    content = f.read()\n",
    "content = content.replace('\\n', ' ')\n",
    "\n",
    "points = content.split(' ')\n",
    "data = list()\n",
    "for point in points:\n",
    "    if point != '':\n",
    "        data.append(point)\n",
    "\n",
    "result = list()\n",
    "for i in range(0, len(data), 90):\n",
    "    row = data[i:i+90]\n",
    "    result.append(row)\n",
    "\n",
    "    \n",
    "\n",
    "headings = ['Index']\n",
    "for i in range(87):\n",
    "    headings.append('feature_'+str(i))\n",
    "headings.extend(['Name', 'class'])\n",
    "\n",
    "with open(r'C:\\Users\\Vidhi\\Desktop\\pattern recog\\proj_\\training_data.csv', 'w', newline = '') as f:\n",
    "    cw = csv.writer(f)\n",
    "    cw.writerow(headings)\n",
    "    for row in result:\n",
    "        temp = row[:57]\n",
    "        temp.extend(row[58:])\n",
    "        temp.append(row[57])\n",
    "        cw.writerow(temp)\n"
   ]
  },
  {
   "cell_type": "code",
   "execution_count": 6,
   "metadata": {},
   "outputs": [],
   "source": [
    "df = pd.read_csv(r'C:\\Users\\Vidhi\\Desktop\\pattern recog\\proj_\\training_data.csv')"
   ]
  },
  {
   "cell_type": "code",
   "execution_count": 7,
   "metadata": {},
   "outputs": [
    {
     "name": "stdout",
     "output_type": "stream",
     "text": [
      "   Index  feature_0  feature_1  feature_2  feature_3  feature_4  feature_5  \\\n",
      "0      1   15943882         63          1         -9         -9         -9   \n",
      "1      2   15964847         67          1         -9         -9         -9   \n",
      "2      3   15952199         67          1         -9         -9         -9   \n",
      "3      4   15929464         37          1         -9         -9         -9   \n",
      "4      6   11961207         41          0         -9         -9         -9   \n",
      "\n",
      "   feature_6  feature_7  feature_8  ...  feature_79  feature_80  feature_81  \\\n",
      "0        -27          1        145  ...          -9          -9          -9   \n",
      "1        -27          4        160  ...          -9          -9          -9   \n",
      "2        -27          4        120  ...          -9          -9          -9   \n",
      "3        -27          3        130  ...          -9          -9          -9   \n",
      "4        -27          2        130  ...          -9          -9          -9   \n",
      "\n",
      "   feature_82  feature_83  feature_84  feature_85  feature_86  Name  class  \n",
      "0          -9           0           0           0           0  name      0  \n",
      "1          -9           0           0           0           0  name      2  \n",
      "2          -9           0           0           0           0  name      1  \n",
      "3          -9           0           0           0           0  name      0  \n",
      "4          -9           0           0           0           0  name      0  \n",
      "\n",
      "[5 rows x 90 columns]\n"
     ]
    }
   ],
   "source": [
    "print(df.head())"
   ]
  },
  {
   "cell_type": "code",
   "execution_count": 8,
   "metadata": {},
   "outputs": [],
   "source": [
    "df = df.drop([\"Index\", \"feature_0\", \"Name\"], axis=1)\n",
    "feature_list = list(df.columns.values)"
   ]
  },
  {
   "cell_type": "code",
   "execution_count": null,
   "metadata": {},
   "outputs": [],
   "source": []
  }
 ],
 "metadata": {
  "kernelspec": {
   "display_name": "Python 3",
   "language": "python",
   "name": "python3"
  },
  "language_info": {
   "codemirror_mode": {
    "name": "ipython",
    "version": 3
   },
   "file_extension": ".py",
   "mimetype": "text/x-python",
   "name": "python",
   "nbconvert_exporter": "python",
   "pygments_lexer": "ipython3",
   "version": "3.6.9"
  }
 },
 "nbformat": 4,
 "nbformat_minor": 2
}
